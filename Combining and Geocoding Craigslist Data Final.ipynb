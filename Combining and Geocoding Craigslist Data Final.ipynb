{
 "cells": [
  {
   "cell_type": "code",
   "execution_count": null,
   "metadata": {},
   "outputs": [],
   "source": [
    "import pandas as pd\n",
    "import ast\n",
    "from tqdm import tqdm\n",
    "from geopy.geocoders import GoogleV3\n",
    "from geopy.extra.rate_limiter import RateLimiter\n",
    "import keyring"
   ]
  },
  {
   "cell_type": "markdown",
   "metadata": {},
   "source": [
    "### Import data"
   ]
  },
  {
   "cell_type": "code",
   "execution_count": null,
   "metadata": {},
   "outputs": [],
   "source": [
    "bakersfield = pd.read_csv('/Users/seantibbitts/Documents/Data Bootcamp/Homework/online_shopping_analysis/Data/bakersfield2.csv')\n",
    "sacramento = pd.read_csv('/Users/seantibbitts/Documents/Data Bootcamp/Homework/online_shopping_analysis/Data/sacramento.csv')\n",
    "sandiego = pd.read_csv('/Users/seantibbitts/Documents/Data Bootcamp/Homework/online_shopping_analysis/Data/sandiego.csv')\n",
    "redding = pd.read_csv('/Users/seantibbitts/Documents/Data Bootcamp/Homework/online_shopping_analysis/Data/redding.csv')"
   ]
  },
  {
   "cell_type": "markdown",
   "metadata": {},
   "source": [
    "### Concatenate dfs"
   ]
  },
  {
   "cell_type": "code",
   "execution_count": null,
   "metadata": {},
   "outputs": [],
   "source": [
    "all_reg = pd.concat([bakersfield, sacramento, sandiego, redding], ignore_index = True)"
   ]
  },
  {
   "cell_type": "code",
   "execution_count": null,
   "metadata": {},
   "outputs": [],
   "source": [
    "all_reg['subtitle'] = all_reg['uncat_attrs'].map(lambda x: ast.literal_eval(x))\\\n",
    "                                                    .map(lambda x: x[0] if x else None).str.strip()"
   ]
  },
  {
   "cell_type": "markdown",
   "metadata": {},
   "source": [
    "### Create df of unique locations"
   ]
  },
  {
   "cell_type": "code",
   "execution_count": null,
   "metadata": {},
   "outputs": [],
   "source": [
    "locs = all_reg[['latitude','longitude']].drop_duplicates().copy()"
   ]
  },
  {
   "cell_type": "code",
   "execution_count": null,
   "metadata": {},
   "outputs": [],
   "source": [
    "locs = locs[locs.notnull().all(axis=1)].copy()"
   ]
  },
  {
   "cell_type": "code",
   "execution_count": null,
   "metadata": {},
   "outputs": [],
   "source": [
    "locs.shape"
   ]
  },
  {
   "cell_type": "markdown",
   "metadata": {},
   "source": [
    "### Create query string for each location"
   ]
  },
  {
   "cell_type": "code",
   "execution_count": null,
   "metadata": {},
   "outputs": [],
   "source": [
    "locs['lat_lon'] = locs['latitude'].astype(str) + ',' + locs['longitude'].astype(str)"
   ]
  },
  {
   "cell_type": "markdown",
   "metadata": {},
   "source": [
    "### Get API key from keychain"
   ]
  },
  {
   "cell_type": "code",
   "execution_count": null,
   "metadata": {},
   "outputs": [],
   "source": [
    "api_key = keyring.get_password('Google API Key','Google')"
   ]
  },
  {
   "cell_type": "markdown",
   "metadata": {},
   "source": [
    "### Instantiate Google Maps API geolocator object"
   ]
  },
  {
   "cell_type": "code",
   "execution_count": null,
   "metadata": {},
   "outputs": [],
   "source": [
    "geolocator = GoogleV3(api_key=api_key)"
   ]
  },
  {
   "cell_type": "markdown",
   "metadata": {},
   "source": [
    "### Prepare to use progress bar on dataframe iteration"
   ]
  },
  {
   "cell_type": "code",
   "execution_count": null,
   "metadata": {},
   "outputs": [],
   "source": [
    "tqdm.pandas()"
   ]
  },
  {
   "cell_type": "markdown",
   "metadata": {},
   "source": [
    "### Wrap geolocator in rate-limiting function"
   ]
  },
  {
   "cell_type": "code",
   "execution_count": null,
   "metadata": {},
   "outputs": [],
   "source": [
    "# Define rate-limited geocoding function\n",
    "geocoder = RateLimiter(geolocator.reverse, min_delay_seconds=.02)"
   ]
  },
  {
   "cell_type": "code",
   "execution_count": null,
   "metadata": {},
   "outputs": [],
   "source": [
    "# locs1 = locs.iloc[0:10].copy()\n",
    "\n",
    "# locs1['reverse'] = locs1['lat_lon'].progress_map(lambda x: geocoder(x, exactly_one = True))\n",
    "\n",
    "# next((item['long_name'] for item in locs1.loc[0,'reverse'].raw['address_components'] if 'postal_code' in item['types']),False)\n",
    "\n",
    "# locs1['raw'] = locs1['reverse'].map(lambda x: x.raw if x else None)\n",
    "\n",
    "# locs1['address_components'] = locs1['raw'].map(lambda x: x.get('address_components') if x else None)\n",
    "\n",
    "# locs1['zip'] = locs1['address_components'].map(lambda x: next((item['long_name'] for item in x if 'postal_code' in item['types']),False))\n",
    "\n",
    "# locs1"
   ]
  },
  {
   "cell_type": "markdown",
   "metadata": {},
   "source": [
    "### Reverse geocode each location"
   ]
  },
  {
   "cell_type": "code",
   "execution_count": null,
   "metadata": {
    "scrolled": true
   },
   "outputs": [],
   "source": [
    "locs['reverse'] = locs['lat_lon'].progress_map(lambda x: geocoder(x, exactly_one = True))"
   ]
  },
  {
   "cell_type": "markdown",
   "metadata": {},
   "source": [
    "### Extract data from raw return values"
   ]
  },
  {
   "cell_type": "code",
   "execution_count": null,
   "metadata": {},
   "outputs": [],
   "source": [
    "locs['raw'] = locs['reverse'].map(lambda x: x.raw if x else None)"
   ]
  },
  {
   "cell_type": "code",
   "execution_count": null,
   "metadata": {},
   "outputs": [],
   "source": [
    "locs['address_components'] = locs['raw'].map(lambda x: x.get('address_components') if x else None)"
   ]
  },
  {
   "cell_type": "markdown",
   "metadata": {},
   "source": [
    "### Return values are lists of dictionaries, so search each one for the right item"
   ]
  },
  {
   "cell_type": "code",
   "execution_count": null,
   "metadata": {},
   "outputs": [],
   "source": [
    "locs['zip'] = locs['address_components']\\\n",
    ".map(lambda x: next((item['long_name'] for item in x if 'postal_code' in item['types']),False) if x else None)"
   ]
  },
  {
   "cell_type": "code",
   "execution_count": null,
   "metadata": {},
   "outputs": [],
   "source": [
    "locs['city'] = locs['address_components']\\\n",
    ".map(lambda x: next((item['long_name'] for item in x if 'locality' in item['types']),False) if x else None)"
   ]
  },
  {
   "cell_type": "code",
   "execution_count": null,
   "metadata": {},
   "outputs": [],
   "source": [
    "locs['county'] = locs['address_components']\\\n",
    ".map(lambda x: next((item['long_name'] for item in x if 'administrative_area_level_2' in item['types']),False)\n",
    "     if x else None)"
   ]
  },
  {
   "cell_type": "code",
   "execution_count": null,
   "metadata": {},
   "outputs": [],
   "source": [
    "locs['state'] = locs['address_components']\\\n",
    ".map(lambda x: next((item['long_name'] for item in x if 'administrative_area_level_1' in item['types']),False)\n",
    "     if x else None)"
   ]
  },
  {
   "cell_type": "code",
   "execution_count": null,
   "metadata": {},
   "outputs": [],
   "source": [
    "locs['country'] = locs['address_components']\\\n",
    ".map(lambda x: next((item['long_name'] for item in x if 'country' in item['types']),False) if x else None)"
   ]
  },
  {
   "cell_type": "markdown",
   "metadata": {},
   "source": [
    "### Merge location data back onto data set"
   ]
  },
  {
   "cell_type": "code",
   "execution_count": null,
   "metadata": {},
   "outputs": [],
   "source": [
    "all_reg2 = pd.merge(all_reg, locs[['latitude','longitude','zip','city','county','state','country']], how = 'left',\n",
    "                    on = ['latitude','longitude'])"
   ]
  },
  {
   "cell_type": "code",
   "execution_count": null,
   "metadata": {},
   "outputs": [],
   "source": [
    "all_reg2.to_csv('/Users/seantibbitts/Documents/Data Bootcamp/Homework/online_shopping_analysis/Data/craigslist_w_zips.csv', index = False)"
   ]
  }
 ],
 "metadata": {
  "kernelspec": {
   "display_name": "Python 3",
   "language": "python",
   "name": "python3"
  },
  "language_info": {
   "codemirror_mode": {
    "name": "ipython",
    "version": 3
   },
   "file_extension": ".py",
   "mimetype": "text/x-python",
   "name": "python",
   "nbconvert_exporter": "python",
   "pygments_lexer": "ipython3",
   "version": "3.7.1"
  }
 },
 "nbformat": 4,
 "nbformat_minor": 2
}
