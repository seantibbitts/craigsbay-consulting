{
 "cells": [
  {
   "cell_type": "code",
   "execution_count": null,
   "metadata": {},
   "outputs": [],
   "source": [
    "import pandas as pd"
   ]
  },
  {
   "cell_type": "code",
   "execution_count": null,
   "metadata": {},
   "outputs": [],
   "source": [
    "# Read in datasets\n",
    "craigslist = pd.read_csv('/Users/seantibbitts/Documents/Data Bootcamp/Homework/online_shopping_analysis/Data/craigslist_w_zips.csv')"
   ]
  },
  {
   "cell_type": "code",
   "execution_count": null,
   "metadata": {},
   "outputs": [],
   "source": [
    "ebay = pd.read_csv('/Users/seantibbitts/Documents/Data Bootcamp/Homework/online_shopping_analysis/Data/final_data_ebay.csv')"
   ]
  },
  {
   "cell_type": "code",
   "execution_count": null,
   "metadata": {},
   "outputs": [],
   "source": [
    "# Slice off dollar signs from Craigslist prices and convert to numeric\n",
    "craigslist['new price'] = pd.to_numeric(craigslist['price'].str.replace('\\$',''))"
   ]
  },
  {
   "cell_type": "code",
   "execution_count": null,
   "metadata": {},
   "outputs": [],
   "source": [
    "ebay.columns"
   ]
  },
  {
   "cell_type": "code",
   "execution_count": null,
   "metadata": {},
   "outputs": [],
   "source": [
    "ebay.loc[ebay['category'].isnull(),'cat_id'].value_counts(dropna=False).index.tolist()"
   ]
  },
  {
   "cell_type": "code",
   "execution_count": null,
   "metadata": {
    "scrolled": true
   },
   "outputs": [],
   "source": [
    "craigslist2['category'].value_counts().sort_index()"
   ]
  },
  {
   "cell_type": "code",
   "execution_count": null,
   "metadata": {},
   "outputs": [],
   "source": [
    "# Map for eBay from category name to category ID\n",
    "cat_ids = {\"antiques\": [20081],\n",
    "          \"arts & crafts\": [14339],\n",
    "          \"atvs, utvs, snowmobiles\": [43962, 66466],\n",
    "          \"auto parts\": [6030],\n",
    "          \"aviation\": [63676],\n",
    "          \"baby & kid stuff\": [2984, 3082, 171146],\n",
    "          \"health and beauty\": [26395],\n",
    "          \"bicycle parts\": [7294],\n",
    "          \"bicycles\": [177831],\n",
    "          \"boat parts\": [26443],\n",
    "          \"boats\": [26429],\n",
    "          \"books & magazines\": [267],\n",
    "          \"cars_trucks\": [6001],\n",
    "          \"cds / dvds / vhs\": [176984, 617, 309],\n",
    "          \"cell phones\": [15032],\n",
    "          \"clothing & accessories\": [15724, 1059, 14324, 3034, 93427, 169291, 4251, 4250],\n",
    "          \"computer parts\": [175673],\n",
    "          \"computers\": [58058],\n",
    "          \"furniture\": [3197],\n",
    "          \"heavy equipment\": [257887],\n",
    "          \"jewelry\": [4196, 10968, 48579, 91427, 10290],\n",
    "          \"motorcycle parts\": [10063],\n",
    "          \"motorcycles/scooters\": [6024],\n",
    "          \"musical instruments\": [619],\n",
    "          \"photo/video\": [625],\n",
    "          \"rvs\": [50054],\n",
    "          \"sporting\": [888],\n",
    "          \"tools\": [631],\n",
    "          \"toys & games\": [220],\n",
    "          \"trailers\": [66468],\n",
    "          \"video gaming\": [1249]\n",
    "         }"
   ]
  },
  {
   "cell_type": "code",
   "execution_count": null,
   "metadata": {},
   "outputs": [],
   "source": [
    "# Invert the map to take category ID to category name\n",
    "inv_map = {}\n",
    "for k, v in cat_ids.items():\n",
    "    for item in v:\n",
    "        inv_map[item] = k"
   ]
  },
  {
   "cell_type": "code",
   "execution_count": null,
   "metadata": {
    "scrolled": true
   },
   "outputs": [],
   "source": [
    "inv_map"
   ]
  },
  {
   "cell_type": "code",
   "execution_count": null,
   "metadata": {},
   "outputs": [],
   "source": [
    "# ebay['new_category'] = ebay['cat_id'].map(inv_map)"
   ]
  },
  {
   "cell_type": "code",
   "execution_count": null,
   "metadata": {
    "scrolled": true
   },
   "outputs": [],
   "source": [
    "craigslist.columns"
   ]
  },
  {
   "cell_type": "code",
   "execution_count": null,
   "metadata": {},
   "outputs": [],
   "source": [
    "# Set source for each"
   ]
  },
  {
   "cell_type": "code",
   "execution_count": null,
   "metadata": {},
   "outputs": [],
   "source": [
    "craigslist['source'] = 'Craigslist'"
   ]
  },
  {
   "cell_type": "code",
   "execution_count": null,
   "metadata": {},
   "outputs": [],
   "source": [
    "ebay['source'] = 'eBay'"
   ]
  },
  {
   "cell_type": "code",
   "execution_count": null,
   "metadata": {},
   "outputs": [],
   "source": [
    "ebay.columns"
   ]
  },
  {
   "cell_type": "code",
   "execution_count": null,
   "metadata": {},
   "outputs": [],
   "source": [
    "# Split the Craigslist category into category and dealer/owner\n",
    "categories = craigslist.category.str.split(' - ', expand = True)\\\n",
    ".rename(columns = {0:'simple category',1:'dealer/owner'})"
   ]
  },
  {
   "cell_type": "code",
   "execution_count": null,
   "metadata": {},
   "outputs": [],
   "source": [
    "craigslist2 = pd.merge(craigslist, categories, how = 'left', left_index = True, right_index = True)\\\n",
    ".rename(columns = {'category':'old category'}).rename(columns = {'simple category':'category','price':'old price'})\\\n",
    ".rename(columns = {'new price':'price'})"
   ]
  },
  {
   "cell_type": "code",
   "execution_count": null,
   "metadata": {},
   "outputs": [],
   "source": [
    "craigslist2.head()"
   ]
  },
  {
   "cell_type": "code",
   "execution_count": null,
   "metadata": {},
   "outputs": [],
   "source": [
    "craigslist2.columns"
   ]
  },
  {
   "cell_type": "code",
   "execution_count": null,
   "metadata": {},
   "outputs": [],
   "source": [
    "ebay.columns"
   ]
  },
  {
   "cell_type": "code",
   "execution_count": null,
   "metadata": {},
   "outputs": [],
   "source": [
    "# ebay2 = ebay.rename(columns = {'category':'old category'}).rename(columns = {'result_list_price':'price',\n",
    "#                                                                              'result_title':'title',\n",
    "#                                                                              'location':'region',\n",
    "#                                                                              'new_category':'category'})"
   ]
  },
  {
   "cell_type": "code",
   "execution_count": null,
   "metadata": {},
   "outputs": [],
   "source": [
    "ebay2 = ebay.rename(columns = {'result_list_price':'price','result_title':'title','location':'region',\n",
    "                               'new_category':'category'})"
   ]
  },
  {
   "cell_type": "code",
   "execution_count": null,
   "metadata": {},
   "outputs": [],
   "source": [
    "ebay2['country'] = 'United States'\n",
    "ebay2['state'] = 'California'"
   ]
  },
  {
   "cell_type": "code",
   "execution_count": null,
   "metadata": {},
   "outputs": [],
   "source": [
    "# Limit both data sets to zip codes they have in common\n",
    "ebay2['zip'] = ebay2['zip'].astype(str)"
   ]
  },
  {
   "cell_type": "code",
   "execution_count": null,
   "metadata": {},
   "outputs": [],
   "source": [
    "cl_zips = set(craigslist2.loc[craigslist2['zip'].notnull(),'zip'])\n",
    "ebay_zips = set(ebay2.loc[ebay2['zip'].notnull(),'zip'])"
   ]
  },
  {
   "cell_type": "code",
   "execution_count": null,
   "metadata": {
    "scrolled": true
   },
   "outputs": [],
   "source": [
    "comb_zips = cl_zips.intersection(ebay_zips)\n",
    "comb_zips"
   ]
  },
  {
   "cell_type": "code",
   "execution_count": null,
   "metadata": {},
   "outputs": [],
   "source": [
    "# Concatenate data sets\n",
    "total_records = pd.concat([craigslist2, ebay2], ignore_index=True, sort=False)"
   ]
  },
  {
   "cell_type": "code",
   "execution_count": null,
   "metadata": {
    "scrolled": true
   },
   "outputs": [],
   "source": [
    "total_records.head().append(total_records.tail())"
   ]
  },
  {
   "cell_type": "code",
   "execution_count": null,
   "metadata": {},
   "outputs": [],
   "source": [
    "# Limit data sets to intersected ZIP codes\n",
    "total_records2 = total_records[total_records['zip'].isin(comb_zips)].copy()"
   ]
  },
  {
   "cell_type": "code",
   "execution_count": null,
   "metadata": {},
   "outputs": [],
   "source": [
    "total_records.shape"
   ]
  },
  {
   "cell_type": "code",
   "execution_count": null,
   "metadata": {},
   "outputs": [],
   "source": [
    "total_records2.shape"
   ]
  },
  {
   "cell_type": "code",
   "execution_count": null,
   "metadata": {},
   "outputs": [],
   "source": [
    "total_records2.to_csv('Data/total_records_intersect.csv', index=False)"
   ]
  }
 ],
 "metadata": {
  "kernelspec": {
   "display_name": "Python 3",
   "language": "python",
   "name": "python3"
  },
  "language_info": {
   "codemirror_mode": {
    "name": "ipython",
    "version": 3
   },
   "file_extension": ".py",
   "mimetype": "text/x-python",
   "name": "python",
   "nbconvert_exporter": "python",
   "pygments_lexer": "ipython3",
   "version": "3.7.1"
  }
 },
 "nbformat": 4,
 "nbformat_minor": 2
}
